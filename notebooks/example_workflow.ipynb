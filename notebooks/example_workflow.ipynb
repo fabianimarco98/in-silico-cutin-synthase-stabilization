{
 "cells": [
  {
   "cell_type": "markdown",
   "metadata": {},
   "source": [
    "# Cutin Synthase Stabilization Analysis\n",
    "## Example Workflow Notebook\n",
    "\n",
    "This notebook demonstrates the complete workflow for analyzing and improving cutin synthase thermostability."
   ]
  },
  {
   "cell_type": "code",
   "execution_count": null,
   "metadata": {},
   "outputs": [],
   "source": [
    "import sys\n",
    "from pathlib import Path\n",
    "\n",
    "# Add src to path\n",
    "sys.path.insert(0, str(Path.cwd().parent / 'src'))\n",
    "\n",
    "import numpy as np\n",
    "import pandas as pd\n",
    "import matplotlib.pyplot as plt\n",
    "import seaborn as sns\n",
    "\n",
    "# Set plotting style\n",
    "sns.set_style('whitegrid')\n",
    "plt.rcParams['figure.figsize'] = (12, 6)"
   ]
  },
  {
   "cell_type": "markdown",
   "metadata": {},
   "source": [
    "## 1. Structure Preparation"
   ]
  },
  {
   "cell_type": "code",
   "execution_count": null,
   "metadata": {},
   "outputs": [],
   "source": [
    "from structure_preparation.prepare_structure import StructurePreparator\n",
    "\n",
    "# Load AlphaFold3 structure\n",
    "pdb_file = '../data/raw/cutin_synthase.pdb'\n",
    "\n",
    "# Check if file exists\n",
    "if Path(pdb_file).exists():\n",
    "    prep = StructurePreparator(pdb_file)\n",
    "    structure = prep.load_structure()\n",
    "    \n",
    "    # Get statistics\n",
    "    stats = prep.analyze_structure()\n",
    "    print(\"Structure Statistics:\")\n",
    "    for key, value in stats.items():\n",
    "        print(f\"  {key}: {value}\")\n",
    "    \n",
    "    # Get sequence\n",
    "    sequence = prep.get_sequence()\n",
    "    print(f\"\\nSequence length: {len(sequence)} residues\")\n",
    "    print(f\"Sequence: {sequence[:50]}...\")\n",
    "    \n",
    "    # Clean structure\n",
    "    prep.clean_structure('../data/processed/cutin_synthase_clean.pdb')\n",
    "else:\n",
    "    print(f\"Structure file not found: {pdb_file}\")\n",
    "    print(\"Please place your AlphaFold3 structure in data/raw/cutin_synthase.pdb\")"
   ]
  },
  {
   "cell_type": "markdown",
   "metadata": {},
   "source": [
    "## 2. Mutation Screening"
   ]
  },
  {
   "cell_type": "code",
   "execution_count": null,
   "metadata": {},
   "outputs": [],
   "source": [
    "from mutation_screening.mutation_screener import MutationScreener, ThermostabilityPredictor\n",
    "\n",
    "# Initialize screener\n",
    "if 'structure' in locals():\n",
    "    screener = MutationScreener(structure)\n",
    "    \n",
    "    # Identify flexible regions\n",
    "    flexible = screener.identify_flexible_regions()\n",
    "    print(f\"Found {len(flexible)} flexible residues\")\n",
    "    \n",
    "    if flexible:\n",
    "        df_flexible = pd.DataFrame(flexible)\n",
    "        display(df_flexible.head(10))\n",
    "    \n",
    "    # Get stabilization strategies\n",
    "    strategies = screener.suggest_stabilizing_mutations()\n",
    "    print(\"\\nStabilization Strategies:\")\n",
    "    for strategy, details in strategies.items():\n",
    "        print(f\"\\n{strategy}:\")\n",
    "        print(f\"  {details['description']}\")\n",
    "else:\n",
    "    print(\"Load structure first (run previous cell)\")"
   ]
  },
  {
   "cell_type": "markdown",
   "metadata": {},
   "source": [
    "## 3. Generate and Rank Mutations"
   ]
  },
  {
   "cell_type": "code",
   "execution_count": null,
   "metadata": {},
   "outputs": [],
   "source": [
    "# Generate mutation library for flexible positions\n",
    "if 'flexible' in locals() and flexible:\n",
    "    # Take top 5 most flexible positions\n",
    "    positions = [f\"{res['resid']}\" for res in flexible[:5]]\n",
    "    \n",
    "    # Generate mutations\n",
    "    mutations = screener.generate_mutation_library(positions)\n",
    "    \n",
    "    # Predict and rank\n",
    "    predictor = ThermostabilityPredictor()\n",
    "    ranked_mutations = predictor.rank_mutations(mutations[:20])  # Test first 20\n",
    "    \n",
    "    # Display results\n",
    "    df_mutations = pd.DataFrame(ranked_mutations)\n",
    "    print(\"Top 10 Stabilizing Mutations (most negative ΔΔG):\")\n",
    "    display(df_mutations.head(10))\n",
    "    \n",
    "    # Plot ΔΔG distribution\n",
    "    plt.figure(figsize=(10, 6))\n",
    "    plt.hist(df_mutations['ddg'], bins=20, edgecolor='black')\n",
    "    plt.axvline(x=0, color='red', linestyle='--', label='ΔΔG = 0')\n",
    "    plt.xlabel('ΔΔG (kcal/mol)')\n",
    "    plt.ylabel('Count')\n",
    "    plt.title('Distribution of Predicted ΔΔG Values')\n",
    "    plt.legend()\n",
    "    plt.tight_layout()\n",
    "    plt.show()\n",
    "else:\n",
    "    print(\"No flexible residues found. Run mutation screening first.\")"
   ]
  },
  {
   "cell_type": "markdown",
   "metadata": {},
   "source": [
    "## 4. MD Simulation Setup"
   ]
  },
  {
   "cell_type": "code",
   "execution_count": null,
   "metadata": {},
   "outputs": [],
   "source": [
    "from md_simulation.setup_md import MDSimulationSetup\n",
    "\n",
    "# Setup simulation for cleaned structure\n",
    "clean_pdb = '../data/processed/cutin_synthase_clean.pdb'\n",
    "\n",
    "if Path(clean_pdb).exists():\n",
    "    md_setup = MDSimulationSetup(clean_pdb)\n",
    "    \n",
    "    # Display simulation parameters\n",
    "    print(\"Simulation Parameters:\")\n",
    "    for key, value in md_setup.simulation_params.items():\n",
    "        print(f\"  {key}: {value}\")\n",
    "    \n",
    "    # Generate MDP files\n",
    "    mdp_files = md_setup.generate_mdp_files('../data/processed/mdp_files')\n",
    "    print(\"\\nGenerated MDP files:\")\n",
    "    for key, path in mdp_files.items():\n",
    "        print(f\"  {key}: {path}\")\n",
    "else:\n",
    "    print(f\"Clean structure not found: {clean_pdb}\")"
   ]
  },
  {
   "cell_type": "markdown",
   "metadata": {},
   "source": [
    "## 5. Trajectory Analysis (Example)"
   ]
  },
  {
   "cell_type": "code",
   "execution_count": null,
   "metadata": {},
   "outputs": [],
   "source": [
    "from analysis.analyze_results import TrajectoryAnalyzer\n",
    "\n",
    "# Initialize analyzer (will work when trajectory files are available)\n",
    "analyzer = TrajectoryAnalyzer()\n",
    "\n",
    "# Generate example RMSD data\n",
    "rmsd_data = analyzer.calculate_rmsd()\n",
    "\n",
    "# Plot RMSD\n",
    "plt.figure(figsize=(12, 5))\n",
    "plt.subplot(1, 2, 1)\n",
    "plt.plot(rmsd_data['time'], rmsd_data['rmsd'], linewidth=0.5)\n",
    "plt.xlabel('Time (ns)')\n",
    "plt.ylabel('RMSD (Å)')\n",
    "plt.title('Backbone RMSD over Time')\n",
    "plt.grid(True, alpha=0.3)\n",
    "\n",
    "# Generate example Rg data\n",
    "rg_data = analyzer.calculate_radius_of_gyration()\n",
    "\n",
    "plt.subplot(1, 2, 2)\n",
    "plt.plot(rg_data['time'], rg_data['rg'], linewidth=0.5, color='orange')\n",
    "plt.xlabel('Time (ns)')\n",
    "plt.ylabel('Radius of Gyration (Å)')\n",
    "plt.title('Radius of Gyration over Time')\n",
    "plt.grid(True, alpha=0.3)\n",
    "\n",
    "plt.tight_layout()\n",
    "plt.show()\n",
    "\n",
    "print(\"Note: These are example plots with simulated data.\")\n",
    "print(\"Replace with actual trajectory files for real analysis.\")"
   ]
  },
  {
   "cell_type": "markdown",
   "metadata": {},
   "source": [
    "## 6. Protein Descriptor Analysis"
   ]
  },
  {
   "cell_type": "code",
   "execution_count": null,
   "metadata": {},
   "outputs": [],
   "source": [
    "from analysis.analyze_results import ProteinDescriptorCalculator\n",
    "\n",
    "# Calculate descriptors\n",
    "if 'structure' in locals():\n",
    "    calc = ProteinDescriptorCalculator(structure)\n",
    "    descriptors = calc.calculate_thermostability_indicators()\n",
    "    \n",
    "    print(\"Thermostability Descriptors:\")\n",
    "    for key, value in descriptors.items():\n",
    "        print(f\"  {key}: {value}\")\n",
    "    \n",
    "    catalytic = calc.calculate_catalytic_descriptors()\n",
    "    print(\"\\nCatalytic Descriptors:\")\n",
    "    for key, value in catalytic.items():\n",
    "        print(f\"  {key}: {value}\")\n",
    "else:\n",
    "    print(\"Load structure first\")"
   ]
  },
  {
   "cell_type": "markdown",
   "metadata": {},
   "source": [
    "## 7. Variant Comparison (Example)"
   ]
  },
  {
   "cell_type": "code",
   "execution_count": null,
   "metadata": {},
   "outputs": [],
   "source": [
    "# Example comparison of multiple variants\n",
    "variants = {\n",
    "    'Wild Type': {\n",
    "        'aliphatic_index': 85.0,\n",
    "        'instability_index': 38.5,\n",
    "        'gravy': -0.2,\n",
    "        'salt_bridges': 12,\n",
    "        'avg_rmsd': 2.5\n",
    "    },\n",
    "    'Mutant A': {\n",
    "        'aliphatic_index': 92.0,\n",
    "        'instability_index': 35.2,\n",
    "        'gravy': -0.1,\n",
    "        'salt_bridges': 15,\n",
    "        'avg_rmsd': 2.1\n",
    "    },\n",
    "    'Mutant B': {\n",
    "        'aliphatic_index': 88.0,\n",
    "        'instability_index': 36.8,\n",
    "        'gravy': -0.15,\n",
    "        'salt_bridges': 14,\n",
    "        'avg_rmsd': 2.3\n",
    "    }\n",
    "}\n",
    "\n",
    "df_variants = pd.DataFrame(variants).T\n",
    "print(\"Variant Comparison:\")\n",
    "display(df_variants)\n",
    "\n",
    "# Radar plot comparison\n",
    "from math import pi\n",
    "\n",
    "categories = ['Aliphatic\\nIndex', 'Salt\\nBridges', 'Stability\\n(low RMSD)']\n",
    "N = len(categories)\n",
    "\n",
    "# Normalize data for radar plot\n",
    "angles = [n / float(N) * 2 * pi for n in range(N)]\n",
    "angles += angles[:1]\n",
    "\n",
    "fig, ax = plt.subplots(figsize=(8, 8), subplot_kw=dict(projection='polar'))\n",
    "\n",
    "for variant, data in variants.items():\n",
    "    values = [\n",
    "        data['aliphatic_index'] / 100,\n",
    "        data['salt_bridges'] / 20,\n",
    "        (5 - data['avg_rmsd']) / 5  # Inverse RMSD (higher is better)\n",
    "    ]\n",
    "    values += values[:1]\n",
    "    \n",
    "    ax.plot(angles, values, 'o-', linewidth=2, label=variant)\n",
    "    ax.fill(angles, values, alpha=0.15)\n",
    "\n",
    "ax.set_xticks(angles[:-1])\n",
    "ax.set_xticklabels(categories)\n",
    "ax.set_ylim(0, 1)\n",
    "ax.set_title('Variant Comparison (Normalized)', size=16, y=1.08)\n",
    "ax.legend(loc='upper right', bbox_to_anchor=(1.3, 1.1))\n",
    "ax.grid(True)\n",
    "\n",
    "plt.tight_layout()\n",
    "plt.show()\n",
    "\n",
    "print(\"\\nNote: This is example data. Replace with actual variant measurements.\")"
   ]
  },
  {
   "cell_type": "markdown",
   "metadata": {},
   "source": [
    "## 8. Summary and Recommendations"
   ]
  },
  {
   "cell_type": "code",
   "execution_count": null,
   "metadata": {},
   "outputs": [],
   "source": [
    "print(\"=\"*70)\n",
    "print(\"CUTIN SYNTHASE STABILIZATION PROJECT - SUMMARY\")\n",
    "print(\"=\"*70)\n",
    "\n",
    "print(\"\\n✓ Completed Steps:\")\n",
    "print(\"  1. Structure preparation and validation\")\n",
    "print(\"  2. Mutation screening and ranking\")\n",
    "print(\"  3. MD simulation setup\")\n",
    "print(\"  4. Analysis framework established\")\n",
    "\n",
    "print(\"\\n→ Next Steps:\")\n",
    "print(\"  1. Run MD simulations for top mutation candidates\")\n",
    "print(\"  2. Compare stability and activity metrics\")\n",
    "print(\"  3. Select 2-3 best variants for experimental validation\")\n",
    "print(\"  4. Document results in final report\")\n",
    "\n",
    "print(\"\\n📊 Key Metrics to Monitor:\")\n",
    "print(\"  - RMSD < 3 Å (structural stability)\")\n",
    "print(\"  - Aliphatic index > 85 (thermostability)\")\n",
    "print(\"  - Instability index < 40 (overall stability)\")\n",
    "print(\"  - Increased salt bridges (electrostatic stability)\")\n",
    "print(\"  - Maintained active site geometry (catalytic activity)\")\n",
    "\n",
    "print(\"\\n\" + \"=\"*70)"
   ]
  }
 ],
 "metadata": {
  "kernelspec": {
   "display_name": "Python 3",
   "language": "python",
   "name": "python3"
  },
  "language_info": {
   "codemirror_mode": {
    "name": "ipython",
    "version": 3
   },
   "file_extension": ".py",
   "mimetype": "text/x-python",
   "name": "python",
   "nbconvert_exporter": "python",
   "pygments_lexer": "ipython3",
   "version": "3.8.0"
  }
 },
 "nbformat": 4,
 "nbformat_minor": 4
}
